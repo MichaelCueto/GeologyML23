{
 "cells": [
  {
   "cell_type": "code",
   "execution_count": 1,
   "metadata": {},
   "outputs": [
    {
     "name": "stdout",
     "output_type": "stream",
     "text": [
      "Best Parameters of Random Forest Ramdomorized\n",
      "Best Parameters of Random Forest Ramdomorized\n",
      "Best Params:  {'n_estimators': 1200, 'min_samples_split': 2, 'min_samples_leaf': 4, 'max_features': 0.9, 'max_depth': 500, 'bootstrap': True}\n",
      "Best Params:  {'n_estimators': 1200, 'min_samples_split': 5, 'min_samples_leaf': 1, 'max_features': 0.6, 'max_depth': 500, 'bootstrap': True}\n"
     ]
    }
   ],
   "source": [
    "#Generate_Model\n",
    "from User import user_class\n",
    "#Generación de modelos de dureza\n",
    "#Recomendación: No ejecutar a no ser que halla data nueva\n",
    "#Advertencia: Si se ejecuta se reescribiran los modelos existentes\n",
    "user_class().Generate_Model(root='../03_BBDD/data_dureza_train.xlsx')"
   ]
  },
  {
   "cell_type": "code",
   "execution_count": 2,
   "metadata": {},
   "outputs": [],
   "source": [
    "#Generación de archivos excel con las predicciones\n",
    "from User import user_class\n",
    "user_class().Generate_Data(root='../03_BBDD/bwilt23.3.xlsx',root_bbdd='../03_BBDD/Resultados_Dureza.xlsx')"
   ]
  }
 ],
 "metadata": {
  "kernelspec": {
   "display_name": "Python 3",
   "language": "python",
   "name": "python3"
  },
  "language_info": {
   "codemirror_mode": {
    "name": "ipython",
    "version": 3
   },
   "file_extension": ".py",
   "mimetype": "text/x-python",
   "name": "python",
   "nbconvert_exporter": "python",
   "pygments_lexer": "ipython3",
   "version": "3.9.12"
  }
 },
 "nbformat": 4,
 "nbformat_minor": 2
}
