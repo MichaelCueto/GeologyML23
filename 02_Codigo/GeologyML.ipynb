{
 "cells": [
  {
   "cell_type": "code",
   "execution_count": null,
   "metadata": {},
   "outputs": [],
   "source": [
    "#Generate_Model\n",
    "from User import user_class\n",
    "#Generación de modelos de dureza\n",
    "#Recomendación: No ejecutar a no ser que halla data nueva\n",
    "#Advertencia: Si se ejecuta se reescribiran los modelos existentes\n",
    "user_class().Generate_Model(root='../03_BBDD/data_dureza_train.xlsx')"
   ]
  },
  {
   "cell_type": "code",
   "execution_count": 2,
   "metadata": {},
   "outputs": [],
   "source": [
    "#Generación de archivos excel con las predicciones\n",
    "from User import user_class\n",
    "user_class().Generate_Data(root='../03_BBDD/bwilt23.3.xlsx',root_bbdd='../03_BBDD/Resultados_Dureza.xlsx')"
   ]
  }
 ],
 "metadata": {
  "kernelspec": {
   "display_name": "Python 3",
   "language": "python",
   "name": "python3"
  },
  "language_info": {
   "codemirror_mode": {
    "name": "ipython",
    "version": 3
   },
   "file_extension": ".py",
   "mimetype": "text/x-python",
   "name": "python",
   "nbconvert_exporter": "python",
   "pygments_lexer": "ipython3",
   "version": "3.9.12"
  }
 },
 "nbformat": 4,
 "nbformat_minor": 2
}
