{
 "cells": [
  {
   "cell_type": "code",
   "execution_count": 2,
   "metadata": {},
   "outputs": [
    {
     "name": "stdout",
     "output_type": "stream",
     "text": [
      "Características esperadas por el escalador: ['Cu%' 'Mo%' 'AgPPM' 'AuPPM' 'Al%' 'Ca%' 'Fe%' 'Mg%' 'Na%' 'S%']\n"
     ]
    }
   ],
   "source": [
    "import joblib\n",
    "\n",
    "# Ruta del escalador\n",
    "scaler_path = \"scaler_rf.pkl\"\n",
    "\n",
    "# Cargar el escalador\n",
    "scaler = joblib.load(scaler_path)\n",
    "\n",
    "# Verificar características esperadas\n",
    "if hasattr(scaler, \"feature_names_in_\"):\n",
    "    print(\"Características esperadas por el escalador:\", scaler.feature_names_in_)\n",
    "else:\n",
    "    print(\"El escalador no tiene información sobre las características.\")"
   ]
  }
 ],
 "metadata": {
  "kernelspec": {
   "display_name": "Python 3",
   "language": "python",
   "name": "python3"
  },
  "language_info": {
   "codemirror_mode": {
    "name": "ipython",
    "version": 3
   },
   "file_extension": ".py",
   "mimetype": "text/x-python",
   "name": "python",
   "nbconvert_exporter": "python",
   "pygments_lexer": "ipython3",
   "version": "3.9.12"
  }
 },
 "nbformat": 4,
 "nbformat_minor": 2
}
